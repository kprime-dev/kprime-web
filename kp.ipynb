{
 "cells": [
  {
   "cell_type": "code",
   "execution_count": 136,
   "id": "graphic-headquarters",
   "metadata": {},
   "outputs": [],
   "source": [
    "import requests,json\n",
    "from IPython.core.display import display, HTML\n",
    "from IPython.display import JSON"
   ]
  },
  {
   "cell_type": "code",
   "execution_count": 67,
   "id": "golden-carolina",
   "metadata": {},
   "outputs": [
    {
     "data": {
      "text/plain": [
       "<Response [200]>"
      ]
     },
     "execution_count": 67,
     "metadata": {},
     "output_type": "execute_result"
    }
   ],
   "source": [
    "requests.post(\"http://localhost:7000/login\",{'username':'admin','password':'pass'})"
   ]
  },
  {
   "cell_type": "code",
   "execution_count": 121,
   "id": "shaped-darkness",
   "metadata": {},
   "outputs": [],
   "source": [
    "def kpdictionary(tracedir:str,tracename:str)->str:\n",
    "    r = requests.get(\"http://localhost:7000/dictionary/\"+tracedir+\"/\"+tracename+\".xml\")\n",
    "    display(HTML(r.text))"
   ]
  },
  {
   "cell_type": "code",
   "execution_count": 122,
   "id": "positive-billy",
   "metadata": {},
   "outputs": [],
   "source": [
    "def kpterm(tracedir:str,tracename:str,term:str)->str:\n",
    "    r = requests.get(\"http://localhost:7000/dictionary/\"+tracedir+\"/\"+tracename+\".xml/\"+term)\n",
    "    display(HTML(r.text))"
   ]
  },
  {
   "cell_type": "code",
   "execution_count": 167,
   "id": "joined-arrow",
   "metadata": {},
   "outputs": [],
   "source": [
    "def kpdata(tracedir:str,tracename:str,term:str)->JSON:\n",
    "    r = requests.get(\"http://localhost:7000/data/\"+tracedir+\"/\"+tracename+\".xml/\"+term)\n",
    "    return json.loads(r.text)"
   ]
  },
  {
   "cell_type": "code",
   "execution_count": 124,
   "id": "interesting-crazy",
   "metadata": {
    "scrolled": true
   },
   "outputs": [],
   "source": [
    "def kp(cmd:str)->str:\n",
    "    r = requests.post(\"http://localhost:7000/parse\",data={'command':cmd})\n",
    "    print (r.text.replace('\\\\n', '\\n').replace(\"\\\\t\", '\\t'))"
   ]
  },
  {
   "cell_type": "code",
   "execution_count": 125,
   "id": "dedicated-personality",
   "metadata": {},
   "outputs": [
    {
     "data": {
      "text/html": [
       "<!DOCTYPE html>\n",
       "<html>\n",
       "<head>\n",
       "    <title>Dictionary Term</title>\n",
       "    <link rel=\"icon\" href=\"/img/favicon.png\">\n",
       "    <meta charset=\"utf-8\">\n",
       "    <meta http-equiv=\"X-UA-Compatible\" content=\"IE=edge\">\n",
       "\n",
       "    <script src=\"/js/jquery.js\" ></script>\n",
       "    <link rel=\"stylesheet\" href=\"/css/bootstrap.css\" >\n",
       "    <script src=\"/js/bootstrap.js\"></script>\n",
       "    <link rel=\"stylesheet\" href=\"/css/kprime.css\">\n",
       "\n",
       "    <link href=\"https://fonts.googleapis.com/css?family=Alegreya+Sans+SC|Jura:500&display=swap\" rel=\"stylesheet\">\n",
       "\n",
       "    <link rel=\"stylesheet\" href=\"/css/animate.css\">\n",
       "    <link rel=\"stylesheet\" href=\"/css/kprime.css\">\n",
       "\n",
       "</head>\n",
       "<body>\n",
       "<h1>demo2_1_tracedb.xml</h1>\n",
       "<nav aria-label=\"breadcrumb\">\n",
       "    <ol class=\"breadcrumb\">\n",
       "        <li class=\"breadcrumb-item\">KPrime</li>\n",
       "        <li class=\"breadcrumb-item active\">Dictionary</li>\n",
       "        <li class=\"breadcrumb-item active\">demo2</li>\n",
       "        <li class=\"breadcrumb-item active\">demo2_1_tracedb.xml</li>\n",
       "    </ol>\n",
       "</nav>\n",
       "\n",
       "<div id=\"content\">\n",
       "    <table>\n",
       "        <tr>\n",
       "            <th>Term</th>\n",
       "            <th>Category</th>\n",
       "        </tr>\n",
       "        <tr>\n",
       "            <td><a href=\"/dictionary/demo2/demo2_1_tracedb.xml/ssn_phone\">ssn_phone</a></td>\n",
       "            <td>table</td>\n",
       "        </tr>\n",
       "        <tr>\n",
       "            <td><a href=\"/dictionary/demo2/demo2_1_tracedb.xml/ssn_others\">ssn_others</a></td>\n",
       "            <td>table</td>\n",
       "        </tr>\n",
       "    </table>\n",
       "    </ul>\n",
       "\n",
       "</div>\n",
       "\n",
       "<script src=\"https://unpkg.com/mermaid@8.4.8/dist/mermaid.min.js\"></script>\n",
       "<!--\n",
       "<script>\n",
       "</script>\n",
       "\n",
       "  <script src=\"https://unpkg.com/mermaid@7.1.0/dist/mermaid.min.js\"></script>\n",
       "-->\n",
       "<script>\n",
       "    var callback = function(){\n",
       "\talert('A callback was triggered');\n",
       "    }\n",
       "\n",
       "    var config = {\n",
       "      startOnLoad:true,\n",
       "      flowchart:{\n",
       "        useMaxWidth:false,\n",
       "        htmlLabels:true,\n",
       "        curve:'cardinal',\n",
       "      },\n",
       "      securityLevel:'loose',\n",
       "    };\n",
       "\n",
       "    mermaid.initialize(config);\n",
       "  </script>\n",
       "</body>\n",
       "</html>\n"
      ],
      "text/plain": [
       "<IPython.core.display.HTML object>"
      ]
     },
     "metadata": {},
     "output_type": "display_data"
    }
   ],
   "source": [
    "kpdictionary('demo2','demo2_1_tracedb')"
   ]
  },
  {
   "cell_type": "code",
   "execution_count": 126,
   "id": "exact-muscle",
   "metadata": {},
   "outputs": [
    {
     "data": {
      "text/html": [
       "<!DOCTYPE html>\n",
       "<html>\n",
       "<head>\n",
       "    <title>Dictionary Term</title>\n",
       "    <link rel=\"icon\" href=\"/img/favicon.png\">\n",
       "    <meta charset=\"utf-8\">\n",
       "    <meta http-equiv=\"X-UA-Compatible\" content=\"IE=edge\">\n",
       "\n",
       "    <script src=\"/js/jquery.js\" ></script>\n",
       "    <link rel=\"stylesheet\" href=\"/css/bootstrap.css\" >\n",
       "    <script src=\"/js/bootstrap.js\"></script>\n",
       "    <link rel=\"stylesheet\" href=\"/css/kprime.css\">\n",
       "\n",
       "    <link href=\"https://fonts.googleapis.com/css?family=Alegreya+Sans+SC|Jura:500&display=swap\" rel=\"stylesheet\">\n",
       "\n",
       "    <link rel=\"stylesheet\" href=\"/css/animate.css\">\n",
       "    <link rel=\"stylesheet\" href=\"/css/kprime.css\">\n",
       "\n",
       "</head>\n",
       "<body>\n",
       "<h1>table2</h1>\n",
       "<nav aria-label=\"breadcrumb\">\n",
       "    <ol class=\"breadcrumb\">\n",
       "        <li class=\"breadcrumb-item\">KPrime</li>\n",
       "        <li class=\"breadcrumb-item active\">Dictionary</li>\n",
       "        <li class=\"breadcrumb-item active\">demo1</li>\n",
       "        <li class=\"breadcrumb-item active\">demo1_1_tracedb.xml</li>\n",
       "        <li class=\"breadcrumb-item active\">table2</li>\n",
       "    </ol>\n",
       "</nav>\n",
       "\n",
       "<div id=\"content\">\n",
       "    <p> <a href=\"\"></a></p>\n",
       "    <p>Persona con dipartimento.</p>\n",
       "    <table>\n",
       "        <tr>\n",
       "            <th>Property : Type</th>\n",
       "            <th>Description</th>\n",
       "        </tr>\n",
       "        <tr>\n",
       "            <td>table2.SSN : <br>  <a href=\"\"></a> </td>\n",
       "            <td>table2 ssn .</td>\n",
       "        </tr>\n",
       "        <tr>\n",
       "            <td>table2.Name : <br>  <a href=\"\"></a> </td>\n",
       "            <td></td>\n",
       "        </tr>\n",
       "        <tr>\n",
       "            <td>table2.DepName : <br>  <a href=\"\"></a> </td>\n",
       "            <td></td>\n",
       "        </tr>\n",
       "        <tr>\n",
       "            <td>table2.DepAddress : <br>  <a href=\"\"></a> </td>\n",
       "            <td></td>\n",
       "        </tr>\n",
       "    </table>\n",
       "    </ul>\n",
       "\n",
       "</div>\n",
       "\n",
       "<script src=\"https://unpkg.com/mermaid@8.4.8/dist/mermaid.min.js\"></script>\n",
       "<!--\n",
       "<script>\n",
       "</script>\n",
       "\n",
       "  <script src=\"https://unpkg.com/mermaid@7.1.0/dist/mermaid.min.js\"></script>\n",
       "-->\n",
       "<script>\n",
       "    var callback = function(){\n",
       "\talert('A callback was triggered');\n",
       "    }\n",
       "\n",
       "    var config = {\n",
       "      startOnLoad:true,\n",
       "      flowchart:{\n",
       "        useMaxWidth:false,\n",
       "        htmlLabels:true,\n",
       "        curve:'cardinal',\n",
       "      },\n",
       "      securityLevel:'loose',\n",
       "    };\n",
       "\n",
       "    mermaid.initialize(config);\n",
       "  </script>\n",
       "</body>\n",
       "</html>\n"
      ],
      "text/plain": [
       "<IPython.core.display.HTML object>"
      ]
     },
     "metadata": {},
     "output_type": "display_data"
    }
   ],
   "source": [
    "kpterm('demo1','demo1_1_tracedb','table2')"
   ]
  },
  {
   "cell_type": "code",
   "execution_count": 113,
   "id": "undefined-station",
   "metadata": {
    "scrolled": true
   },
   "outputs": [
    {
     "name": "stdout",
     "output_type": "stream",
     "text": [
      "\"Tables:\n",
      "ssn_phone: SSN , Phone \n",
      "ssn_name: SSN , Name \n",
      "ssn_dep: SSN , DepName , DepAddress \n",
      "\n",
      "-------------\n",
      "Mappings:\n",
      " ssn_phone  \n",
      " ssn_name  \n",
      " ssn_dep  \n",
      "\n",
      "-------------\n",
      "Constraints:\n",
      " pkey_ssn_phone  PRIMARY_KEY  SSN , Phone  ->  SSN , Phone \n",
      " pkey_ssn_name  PRIMARY_KEY  SSN  ->  SSN \n",
      " pkey_ssn_dep  PRIMARY_KEY  SSN  ->  SSN \n",
      " ssn_phone_ssn_dep.DOUBLE_INCLUSION6  DOUBLE_INCLUSION  SSN  ->  SSN \n",
      " ssn_phone_ssn_name.DOUBLE_INCLUSION7  DOUBLE_INCLUSION  SSN  ->  SSN \n",
      " ssn_name_ssn_dep.DOUBLE_INCLUSION8  DOUBLE_INCLUSION  SSN  ->  SSN \n",
      " ssn_dep_ssn_dep.DOUBLE_INCLUSION9  DOUBLE_INCLUSION  DepName  ->  DepAddress \n",
      "\"\n"
     ]
    }
   ],
   "source": [
    "kp('all')"
   ]
  },
  {
   "cell_type": "code",
   "execution_count": 89,
   "id": "forward-mount",
   "metadata": {},
   "outputs": [
    {
     "name": "stdout",
     "output_type": "stream",
     "text": [
      "\"Trace demo1 setted.\"\n"
     ]
    }
   ],
   "source": [
    "kp('current-trace demo1 demo1_7tracedb.xml')"
   ]
  },
  {
   "cell_type": "code",
   "execution_count": 117,
   "id": "damaged-charter",
   "metadata": {
    "scrolled": true
   },
   "outputs": [
    {
     "name": "stdout",
     "output_type": "stream",
     "text": [
      "\"Tables:\n",
      "table1: SSN , Phone \n",
      "table2: SSN , Name , DepName , DepAddress \n",
      "\"\n"
     ]
    }
   ],
   "source": [
    "kp('tables')"
   ]
  },
  {
   "cell_type": "code",
   "execution_count": 172,
   "id": "paperback-jaguar",
   "metadata": {},
   "outputs": [
    {
     "data": {
      "text/plain": [
       "[{'SSN': 'SSN1',\n",
       "  'NAME': 'Name1',\n",
       "  'DEPNAME': 'DepName1',\n",
       "  'DEPADDRESS': 'DepAddress1'},\n",
       " {'SSN': 'SSN2',\n",
       "  'NAME': 'Name2',\n",
       "  'DEPNAME': 'DepName2',\n",
       "  'DEPADDRESS': 'DepAddress2'},\n",
       " {'SSN': 'SSN3',\n",
       "  'NAME': 'Name3',\n",
       "  'DEPNAME': 'DepName2',\n",
       "  'DEPADDRESS': 'DepAddress2'},\n",
       " {'SSN': 'SSN4', 'NAME': 'Name4', 'DEPNAME': None, 'DEPADDRESS': None}]"
      ]
     },
     "execution_count": 172,
     "metadata": {},
     "output_type": "execute_result"
    }
   ],
   "source": [
    "kpdata('demo1','demo1_1_tracedb','table2')"
   ]
  },
  {
   "cell_type": "code",
   "execution_count": null,
   "id": "under-malta",
   "metadata": {},
   "outputs": [],
   "source": []
  }
 ],
 "metadata": {
  "kernelspec": {
   "display_name": "Python 3",
   "language": "python",
   "name": "python3"
  },
  "language_info": {
   "codemirror_mode": {
    "name": "ipython",
    "version": 3
   },
   "file_extension": ".py",
   "mimetype": "text/x-python",
   "name": "python",
   "nbconvert_exporter": "python",
   "pygments_lexer": "ipython3",
   "version": "3.8.5"
  }
 },
 "nbformat": 4,
 "nbformat_minor": 5
}
